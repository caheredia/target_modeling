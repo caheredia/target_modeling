{
 "cells": [
  {
   "cell_type": "code",
   "execution_count": 1,
   "metadata": {},
   "outputs": [],
   "source": [
    "%load_ext autoreload\n",
    "%autoreload 2\n",
    "\n",
    "import pandas as pd\n",
    "%matplotlib inline\n",
    "import numpy as np\n",
    "import matplotlib.pyplot as plt\n",
    "\n",
    "from src import find_duplicates"
   ]
  },
  {
   "cell_type": "markdown",
   "metadata": {},
   "source": [
    "# Load data"
   ]
  },
  {
   "cell_type": "code",
   "execution_count": 255,
   "metadata": {},
   "outputs": [
    {
     "name": "stderr",
     "output_type": "stream",
     "text": [
      "/Users/cristian/anaconda/lib/python3.6/site-packages/IPython/core/interactiveshell.py:2728: DtypeWarning: Columns (49,191,476) have mixed types. Specify dtype option on import or set low_memory=False.\n",
      "  interactivity=interactivity, compiler=compiler, result=result)\n"
     ]
    }
   ],
   "source": [
    "filename = 'data/raw/targeting_model_data.csv' \n",
    "data = pd.read_csv(filename)"
   ]
  },
  {
   "cell_type": "code",
   "execution_count": 256,
   "metadata": {},
   "outputs": [
    {
     "name": "stdout",
     "output_type": "stream",
     "text": [
      "<class 'pandas.core.frame.DataFrame'>\n",
      "RangeIndex: 100000 entries, 0 to 99999\n",
      "Columns: 562 entries, FLOZVPMFT4626A to ibe9588SEUQO0831A\n",
      "dtypes: float64(292), int64(129), object(141)\n",
      "memory usage: 428.8+ MB\n"
     ]
    }
   ],
   "source": [
    "data.info()"
   ]
  },
  {
   "cell_type": "code",
   "execution_count": 257,
   "metadata": {},
   "outputs": [
    {
     "name": "stdout",
     "output_type": "stream",
     "text": [
      "Number of columns: 562\n",
      "Number of rows: 100000\n"
     ]
    }
   ],
   "source": [
    "print('Number of columns: {}'.format(data.shape[1]))\n",
    "print('Number of rows: {}'.format(data.shape[0]))"
   ]
  },
  {
   "cell_type": "code",
   "execution_count": 258,
   "metadata": {},
   "outputs": [
    {
     "data": {
      "text/html": [
       "<div>\n",
       "<style scoped>\n",
       "    .dataframe tbody tr th:only-of-type {\n",
       "        vertical-align: middle;\n",
       "    }\n",
       "\n",
       "    .dataframe tbody tr th {\n",
       "        vertical-align: top;\n",
       "    }\n",
       "\n",
       "    .dataframe thead th {\n",
       "        text-align: right;\n",
       "    }\n",
       "</style>\n",
       "<table border=\"1\" class=\"dataframe\">\n",
       "  <thead>\n",
       "    <tr style=\"text-align: right;\">\n",
       "      <th></th>\n",
       "      <th>FLOZVPMFT4626A</th>\n",
       "      <th>ibe1270YRFHJ3350O</th>\n",
       "      <th>ibe1270UUGLZ8167Q</th>\n",
       "      <th>ibe1271DCBOP1538T</th>\n",
       "      <th>ibe1271UEOXF6805V</th>\n",
       "      <th>ibe1273MMNAC5195E</th>\n",
       "      <th>ibe1273KQXUT2596F</th>\n",
       "      <th>ibe1274DFDFF5102Q</th>\n",
       "      <th>ibe1274BHMXG3244U</th>\n",
       "      <th>ibe1275QYWDP9371S</th>\n",
       "      <th>...</th>\n",
       "      <th>ibe9588RHJVI3838A</th>\n",
       "      <th>ibe9588PFUUV4361R</th>\n",
       "      <th>ibe9588KHKHQ6606C</th>\n",
       "      <th>ibe9588VBRCG7737V</th>\n",
       "      <th>ibe9588LZKVW3171Q</th>\n",
       "      <th>ibe9588XPLHJ3729U</th>\n",
       "      <th>ibe9588AWQKW9305L</th>\n",
       "      <th>ibe9588HVWQG4124G</th>\n",
       "      <th>ibe9588YWABE2309I</th>\n",
       "      <th>ibe9588SEUQO0831A</th>\n",
       "    </tr>\n",
       "  </thead>\n",
       "  <tbody>\n",
       "    <tr>\n",
       "      <th>0</th>\n",
       "      <td>0</td>\n",
       "      <td>17.0</td>\n",
       "      <td>3</td>\n",
       "      <td>12B</td>\n",
       "      <td>3</td>\n",
       "      <td>9.0</td>\n",
       "      <td>E</td>\n",
       "      <td>01C</td>\n",
       "      <td>3</td>\n",
       "      <td>01C</td>\n",
       "      <td>...</td>\n",
       "      <td>0</td>\n",
       "      <td>0</td>\n",
       "      <td>0</td>\n",
       "      <td>0</td>\n",
       "      <td>0</td>\n",
       "      <td>0</td>\n",
       "      <td>0</td>\n",
       "      <td>0</td>\n",
       "      <td>0</td>\n",
       "      <td>1</td>\n",
       "    </tr>\n",
       "    <tr>\n",
       "      <th>1</th>\n",
       "      <td>0</td>\n",
       "      <td>1.0</td>\n",
       "      <td>3</td>\n",
       "      <td>11B</td>\n",
       "      <td>3</td>\n",
       "      <td>7.0</td>\n",
       "      <td>E</td>\n",
       "      <td>01C</td>\n",
       "      <td>3</td>\n",
       "      <td>01C</td>\n",
       "      <td>...</td>\n",
       "      <td>0</td>\n",
       "      <td>0</td>\n",
       "      <td>0</td>\n",
       "      <td>0</td>\n",
       "      <td>0</td>\n",
       "      <td>1</td>\n",
       "      <td>0</td>\n",
       "      <td>0</td>\n",
       "      <td>0</td>\n",
       "      <td>0</td>\n",
       "    </tr>\n",
       "    <tr>\n",
       "      <th>2</th>\n",
       "      <td>0</td>\n",
       "      <td>61.0</td>\n",
       "      <td>3</td>\n",
       "      <td>06X</td>\n",
       "      <td>3</td>\n",
       "      <td>12.0</td>\n",
       "      <td>E</td>\n",
       "      <td>03C</td>\n",
       "      <td>3</td>\n",
       "      <td>11C</td>\n",
       "      <td>...</td>\n",
       "      <td>0</td>\n",
       "      <td>0</td>\n",
       "      <td>0</td>\n",
       "      <td>0</td>\n",
       "      <td>0</td>\n",
       "      <td>0</td>\n",
       "      <td>0</td>\n",
       "      <td>0</td>\n",
       "      <td>0</td>\n",
       "      <td>0</td>\n",
       "    </tr>\n",
       "    <tr>\n",
       "      <th>3</th>\n",
       "      <td>0</td>\n",
       "      <td>13.0</td>\n",
       "      <td>3</td>\n",
       "      <td>12B</td>\n",
       "      <td>3</td>\n",
       "      <td>5.0</td>\n",
       "      <td>E</td>\n",
       "      <td>05C</td>\n",
       "      <td>3</td>\n",
       "      <td>07U</td>\n",
       "      <td>...</td>\n",
       "      <td>0</td>\n",
       "      <td>0</td>\n",
       "      <td>0</td>\n",
       "      <td>0</td>\n",
       "      <td>0</td>\n",
       "      <td>0</td>\n",
       "      <td>1</td>\n",
       "      <td>0</td>\n",
       "      <td>0</td>\n",
       "      <td>0</td>\n",
       "    </tr>\n",
       "    <tr>\n",
       "      <th>4</th>\n",
       "      <td>0</td>\n",
       "      <td>37.0</td>\n",
       "      <td>3</td>\n",
       "      <td>05X</td>\n",
       "      <td>3</td>\n",
       "      <td>7.0</td>\n",
       "      <td>E</td>\n",
       "      <td>05C</td>\n",
       "      <td>3</td>\n",
       "      <td>08C</td>\n",
       "      <td>...</td>\n",
       "      <td>0</td>\n",
       "      <td>0</td>\n",
       "      <td>0</td>\n",
       "      <td>0</td>\n",
       "      <td>0</td>\n",
       "      <td>1</td>\n",
       "      <td>0</td>\n",
       "      <td>0</td>\n",
       "      <td>0</td>\n",
       "      <td>0</td>\n",
       "    </tr>\n",
       "  </tbody>\n",
       "</table>\n",
       "<p>5 rows × 562 columns</p>\n",
       "</div>"
      ],
      "text/plain": [
       "   FLOZVPMFT4626A  ibe1270YRFHJ3350O ibe1270UUGLZ8167Q ibe1271DCBOP1538T  \\\n",
       "0               0               17.0                 3               12B   \n",
       "1               0                1.0                 3               11B   \n",
       "2               0               61.0                 3               06X   \n",
       "3               0               13.0                 3               12B   \n",
       "4               0               37.0                 3               05X   \n",
       "\n",
       "  ibe1271UEOXF6805V  ibe1273MMNAC5195E ibe1273KQXUT2596F ibe1274DFDFF5102Q  \\\n",
       "0                 3                9.0                 E               01C   \n",
       "1                 3                7.0                 E               01C   \n",
       "2                 3               12.0                 E               03C   \n",
       "3                 3                5.0                 E               05C   \n",
       "4                 3                7.0                 E               05C   \n",
       "\n",
       "  ibe1274BHMXG3244U ibe1275QYWDP9371S        ...         ibe9588RHJVI3838A  \\\n",
       "0                 3               01C        ...                         0   \n",
       "1                 3               01C        ...                         0   \n",
       "2                 3               11C        ...                         0   \n",
       "3                 3               07U        ...                         0   \n",
       "4                 3               08C        ...                         0   \n",
       "\n",
       "   ibe9588PFUUV4361R ibe9588KHKHQ6606C ibe9588VBRCG7737V ibe9588LZKVW3171Q  \\\n",
       "0                  0                 0                 0                 0   \n",
       "1                  0                 0                 0                 0   \n",
       "2                  0                 0                 0                 0   \n",
       "3                  0                 0                 0                 0   \n",
       "4                  0                 0                 0                 0   \n",
       "\n",
       "   ibe9588XPLHJ3729U  ibe9588AWQKW9305L  ibe9588HVWQG4124G  ibe9588YWABE2309I  \\\n",
       "0                  0                  0                  0                  0   \n",
       "1                  1                  0                  0                  0   \n",
       "2                  0                  0                  0                  0   \n",
       "3                  0                  1                  0                  0   \n",
       "4                  1                  0                  0                  0   \n",
       "\n",
       "   ibe9588SEUQO0831A  \n",
       "0                  1  \n",
       "1                  0  \n",
       "2                  0  \n",
       "3                  0  \n",
       "4                  0  \n",
       "\n",
       "[5 rows x 562 columns]"
      ]
     },
     "execution_count": 258,
     "metadata": {},
     "output_type": "execute_result"
    }
   ],
   "source": [
    "# quick look at data \n",
    "data.head()"
   ]
  },
  {
   "cell_type": "code",
   "execution_count": 259,
   "metadata": {},
   "outputs": [
    {
     "data": {
      "text/plain": [
       "0    74528\n",
       "1    25472\n",
       "Name: FLOZVPMFT4626A, dtype: int64"
      ]
     },
     "execution_count": 259,
     "metadata": {},
     "output_type": "execute_result"
    }
   ],
   "source": [
    "# Composition of target data, this demonstrates imbalanced data. And thus accuracy alone is not a good metric for assessing performance of model. \n",
    "data['FLOZVPMFT4626A'].value_counts()"
   ]
  },
  {
   "cell_type": "markdown",
   "metadata": {},
   "source": [
    "# Clean up data"
   ]
  },
  {
   "cell_type": "markdown",
   "metadata": {},
   "source": [
    "## Find and drop dulicate columns"
   ]
  },
  {
   "cell_type": "code",
   "execution_count": 260,
   "metadata": {},
   "outputs": [],
   "source": [
    "duplicates = find_duplicates(data)"
   ]
  },
  {
   "cell_type": "code",
   "execution_count": 261,
   "metadata": {},
   "outputs": [
    {
     "name": "stdout",
     "output_type": "stream",
     "text": [
      "Number of duplicate columns dropped: 10\n"
     ]
    }
   ],
   "source": [
    "print('Number of duplicate columns dropped: {}'.format(len(duplicates)))"
   ]
  },
  {
   "cell_type": "code",
   "execution_count": 262,
   "metadata": {},
   "outputs": [],
   "source": [
    "# data frame excluding dropped columns \n",
    "df = data.drop(columns=duplicates)"
   ]
  },
  {
   "cell_type": "code",
   "execution_count": 263,
   "metadata": {},
   "outputs": [
    {
     "data": {
      "text/html": [
       "<div>\n",
       "<style scoped>\n",
       "    .dataframe tbody tr th:only-of-type {\n",
       "        vertical-align: middle;\n",
       "    }\n",
       "\n",
       "    .dataframe tbody tr th {\n",
       "        vertical-align: top;\n",
       "    }\n",
       "\n",
       "    .dataframe thead th {\n",
       "        text-align: right;\n",
       "    }\n",
       "</style>\n",
       "<table border=\"1\" class=\"dataframe\">\n",
       "  <thead>\n",
       "    <tr style=\"text-align: right;\">\n",
       "      <th></th>\n",
       "      <th>FLOZVPMFT4626A</th>\n",
       "      <th>ibe1270YRFHJ3350O</th>\n",
       "      <th>ibe1271DCBOP1538T</th>\n",
       "      <th>ibe1273MMNAC5195E</th>\n",
       "      <th>ibe1273KQXUT2596F</th>\n",
       "      <th>ibe1274DFDFF5102Q</th>\n",
       "      <th>ibe1275QYWDP9371S</th>\n",
       "      <th>ibe1280ORQKP6566Z</th>\n",
       "      <th>ibe1281AGNWU9303H</th>\n",
       "      <th>ibe1281VSZLA4159S</th>\n",
       "      <th>...</th>\n",
       "      <th>ibe9588RHJVI3838A</th>\n",
       "      <th>ibe9588PFUUV4361R</th>\n",
       "      <th>ibe9588KHKHQ6606C</th>\n",
       "      <th>ibe9588VBRCG7737V</th>\n",
       "      <th>ibe9588LZKVW3171Q</th>\n",
       "      <th>ibe9588XPLHJ3729U</th>\n",
       "      <th>ibe9588AWQKW9305L</th>\n",
       "      <th>ibe9588HVWQG4124G</th>\n",
       "      <th>ibe9588YWABE2309I</th>\n",
       "      <th>ibe9588SEUQO0831A</th>\n",
       "    </tr>\n",
       "  </thead>\n",
       "  <tbody>\n",
       "    <tr>\n",
       "      <th>0</th>\n",
       "      <td>0</td>\n",
       "      <td>17.0</td>\n",
       "      <td>12B</td>\n",
       "      <td>9.0</td>\n",
       "      <td>E</td>\n",
       "      <td>01C</td>\n",
       "      <td>01C</td>\n",
       "      <td>35.0</td>\n",
       "      <td>09L</td>\n",
       "      <td>3</td>\n",
       "      <td>...</td>\n",
       "      <td>0</td>\n",
       "      <td>0</td>\n",
       "      <td>0</td>\n",
       "      <td>0</td>\n",
       "      <td>0</td>\n",
       "      <td>0</td>\n",
       "      <td>0</td>\n",
       "      <td>0</td>\n",
       "      <td>0</td>\n",
       "      <td>1</td>\n",
       "    </tr>\n",
       "    <tr>\n",
       "      <th>1</th>\n",
       "      <td>0</td>\n",
       "      <td>1.0</td>\n",
       "      <td>11B</td>\n",
       "      <td>7.0</td>\n",
       "      <td>E</td>\n",
       "      <td>01C</td>\n",
       "      <td>01C</td>\n",
       "      <td>11.0</td>\n",
       "      <td>04M</td>\n",
       "      <td>1</td>\n",
       "      <td>...</td>\n",
       "      <td>0</td>\n",
       "      <td>0</td>\n",
       "      <td>0</td>\n",
       "      <td>0</td>\n",
       "      <td>0</td>\n",
       "      <td>1</td>\n",
       "      <td>0</td>\n",
       "      <td>0</td>\n",
       "      <td>0</td>\n",
       "      <td>0</td>\n",
       "    </tr>\n",
       "    <tr>\n",
       "      <th>2</th>\n",
       "      <td>0</td>\n",
       "      <td>61.0</td>\n",
       "      <td>06X</td>\n",
       "      <td>12.0</td>\n",
       "      <td>E</td>\n",
       "      <td>03C</td>\n",
       "      <td>11C</td>\n",
       "      <td>38.0</td>\n",
       "      <td>12L</td>\n",
       "      <td>3</td>\n",
       "      <td>...</td>\n",
       "      <td>0</td>\n",
       "      <td>0</td>\n",
       "      <td>0</td>\n",
       "      <td>0</td>\n",
       "      <td>0</td>\n",
       "      <td>0</td>\n",
       "      <td>0</td>\n",
       "      <td>0</td>\n",
       "      <td>0</td>\n",
       "      <td>0</td>\n",
       "    </tr>\n",
       "    <tr>\n",
       "      <th>3</th>\n",
       "      <td>0</td>\n",
       "      <td>13.0</td>\n",
       "      <td>12B</td>\n",
       "      <td>5.0</td>\n",
       "      <td>E</td>\n",
       "      <td>05C</td>\n",
       "      <td>07U</td>\n",
       "      <td>14.0</td>\n",
       "      <td>05M</td>\n",
       "      <td>1</td>\n",
       "      <td>...</td>\n",
       "      <td>0</td>\n",
       "      <td>0</td>\n",
       "      <td>0</td>\n",
       "      <td>0</td>\n",
       "      <td>0</td>\n",
       "      <td>0</td>\n",
       "      <td>1</td>\n",
       "      <td>0</td>\n",
       "      <td>0</td>\n",
       "      <td>0</td>\n",
       "    </tr>\n",
       "    <tr>\n",
       "      <th>4</th>\n",
       "      <td>0</td>\n",
       "      <td>37.0</td>\n",
       "      <td>05X</td>\n",
       "      <td>7.0</td>\n",
       "      <td>E</td>\n",
       "      <td>05C</td>\n",
       "      <td>08C</td>\n",
       "      <td>33.0</td>\n",
       "      <td>11L</td>\n",
       "      <td>1</td>\n",
       "      <td>...</td>\n",
       "      <td>0</td>\n",
       "      <td>0</td>\n",
       "      <td>0</td>\n",
       "      <td>0</td>\n",
       "      <td>0</td>\n",
       "      <td>1</td>\n",
       "      <td>0</td>\n",
       "      <td>0</td>\n",
       "      <td>0</td>\n",
       "      <td>0</td>\n",
       "    </tr>\n",
       "  </tbody>\n",
       "</table>\n",
       "<p>5 rows × 552 columns</p>\n",
       "</div>"
      ],
      "text/plain": [
       "   FLOZVPMFT4626A  ibe1270YRFHJ3350O ibe1271DCBOP1538T  ibe1273MMNAC5195E  \\\n",
       "0               0               17.0               12B                9.0   \n",
       "1               0                1.0               11B                7.0   \n",
       "2               0               61.0               06X               12.0   \n",
       "3               0               13.0               12B                5.0   \n",
       "4               0               37.0               05X                7.0   \n",
       "\n",
       "  ibe1273KQXUT2596F ibe1274DFDFF5102Q ibe1275QYWDP9371S  ibe1280ORQKP6566Z  \\\n",
       "0                 E               01C               01C               35.0   \n",
       "1                 E               01C               01C               11.0   \n",
       "2                 E               03C               11C               38.0   \n",
       "3                 E               05C               07U               14.0   \n",
       "4                 E               05C               08C               33.0   \n",
       "\n",
       "  ibe1281AGNWU9303H ibe1281VSZLA4159S        ...          ibe9588RHJVI3838A  \\\n",
       "0               09L                 3        ...                          0   \n",
       "1               04M                 1        ...                          0   \n",
       "2               12L                 3        ...                          0   \n",
       "3               05M                 1        ...                          0   \n",
       "4               11L                 1        ...                          0   \n",
       "\n",
       "   ibe9588PFUUV4361R  ibe9588KHKHQ6606C  ibe9588VBRCG7737V  ibe9588LZKVW3171Q  \\\n",
       "0                  0                  0                  0                  0   \n",
       "1                  0                  0                  0                  0   \n",
       "2                  0                  0                  0                  0   \n",
       "3                  0                  0                  0                  0   \n",
       "4                  0                  0                  0                  0   \n",
       "\n",
       "   ibe9588XPLHJ3729U  ibe9588AWQKW9305L  ibe9588HVWQG4124G  ibe9588YWABE2309I  \\\n",
       "0                  0                  0                  0                  0   \n",
       "1                  1                  0                  0                  0   \n",
       "2                  0                  0                  0                  0   \n",
       "3                  0                  1                  0                  0   \n",
       "4                  1                  0                  0                  0   \n",
       "\n",
       "   ibe9588SEUQO0831A  \n",
       "0                  1  \n",
       "1                  0  \n",
       "2                  0  \n",
       "3                  0  \n",
       "4                  0  \n",
       "\n",
       "[5 rows x 552 columns]"
      ]
     },
     "execution_count": 263,
     "metadata": {},
     "output_type": "execute_result"
    }
   ],
   "source": [
    "df.head()"
   ]
  },
  {
   "cell_type": "markdown",
   "metadata": {},
   "source": [
    "## For data type int64 or float64 drop columns with low variance\n",
    "motivated by the Variance Threshold function https://scikit-learn.org/stable/modules/feature_selection.html"
   ]
  },
  {
   "cell_type": "code",
   "execution_count": 264,
   "metadata": {
    "collapsed": true
   },
   "outputs": [],
   "source": [
    "def find_low_variance(data, threshold = 0.3):\n",
    "    \"\"\"Finds columns with low variance. \n",
    "    \n",
    "    Takes a dataframe as input. Creates a list of columns with low threshold. \n",
    "    These columns can then be dropped from original dataframe. \n",
    "    \"\"\"\n",
    "    low_variance_columns = []\n",
    "    for column in data.columns: \n",
    "        if (data[column].dtype == 'float64') or (data[column].dtype == 'int64'): \n",
    "            if data[column].std() < threshold:\n",
    "                low_variance_columns.append(column)\n",
    "    return low_variance_columns\n",
    "    \n",
    "            \n",
    "            "
   ]
  },
  {
   "cell_type": "code",
   "execution_count": 265,
   "metadata": {},
   "outputs": [],
   "source": [
    "# data frame excluding dropped columns \n",
    "low_var_columns = find_low_variance(df)\n",
    "df.drop(columns=low_var_columns, inplace=True)"
   ]
  },
  {
   "cell_type": "code",
   "execution_count": 266,
   "metadata": {},
   "outputs": [
    {
     "name": "stdout",
     "output_type": "stream",
     "text": [
      "Number of low variance columns dropped: 288\n"
     ]
    }
   ],
   "source": [
    "print('Number of low variance columns dropped: {}'.format(len(low_var_columns)))"
   ]
  },
  {
   "cell_type": "code",
   "execution_count": 267,
   "metadata": {},
   "outputs": [
    {
     "data": {
      "text/html": [
       "<div>\n",
       "<style scoped>\n",
       "    .dataframe tbody tr th:only-of-type {\n",
       "        vertical-align: middle;\n",
       "    }\n",
       "\n",
       "    .dataframe tbody tr th {\n",
       "        vertical-align: top;\n",
       "    }\n",
       "\n",
       "    .dataframe thead th {\n",
       "        text-align: right;\n",
       "    }\n",
       "</style>\n",
       "<table border=\"1\" class=\"dataframe\">\n",
       "  <thead>\n",
       "    <tr style=\"text-align: right;\">\n",
       "      <th></th>\n",
       "      <th>FLOZVPMFT4626A</th>\n",
       "      <th>ibe1270YRFHJ3350O</th>\n",
       "      <th>ibe1271DCBOP1538T</th>\n",
       "      <th>ibe1273MMNAC5195E</th>\n",
       "      <th>ibe1273KQXUT2596F</th>\n",
       "      <th>ibe1274DFDFF5102Q</th>\n",
       "      <th>ibe1275QYWDP9371S</th>\n",
       "      <th>ibe1280ORQKP6566Z</th>\n",
       "      <th>ibe1281AGNWU9303H</th>\n",
       "      <th>ibe1281VSZLA4159S</th>\n",
       "      <th>...</th>\n",
       "      <th>ibe9154GOSYR7154P</th>\n",
       "      <th>ibe9180FFUYI1365V</th>\n",
       "      <th>ibe9181PWJGU8847L</th>\n",
       "      <th>ibe9350NHRIV6568X</th>\n",
       "      <th>ibe9351VNIYI1676Y</th>\n",
       "      <th>ibe9356VXVDJ5952B</th>\n",
       "      <th>ibe9358UBJWE4744M</th>\n",
       "      <th>ibe9509UGCNU4337M</th>\n",
       "      <th>ibe9514RWCHD8503K</th>\n",
       "      <th>ibe9557OYAAN8636H</th>\n",
       "    </tr>\n",
       "  </thead>\n",
       "  <tbody>\n",
       "    <tr>\n",
       "      <th>0</th>\n",
       "      <td>0</td>\n",
       "      <td>17.0</td>\n",
       "      <td>12B</td>\n",
       "      <td>9.0</td>\n",
       "      <td>E</td>\n",
       "      <td>01C</td>\n",
       "      <td>01C</td>\n",
       "      <td>35.0</td>\n",
       "      <td>09L</td>\n",
       "      <td>3</td>\n",
       "      <td>...</td>\n",
       "      <td>C1</td>\n",
       "      <td>NaN</td>\n",
       "      <td>NaN</td>\n",
       "      <td>13.0</td>\n",
       "      <td>13.0</td>\n",
       "      <td>5</td>\n",
       "      <td>9.0</td>\n",
       "      <td>NaN</td>\n",
       "      <td>NaN</td>\n",
       "      <td>NaN</td>\n",
       "    </tr>\n",
       "    <tr>\n",
       "      <th>1</th>\n",
       "      <td>0</td>\n",
       "      <td>1.0</td>\n",
       "      <td>11B</td>\n",
       "      <td>7.0</td>\n",
       "      <td>E</td>\n",
       "      <td>01C</td>\n",
       "      <td>01C</td>\n",
       "      <td>11.0</td>\n",
       "      <td>04M</td>\n",
       "      <td>1</td>\n",
       "      <td>...</td>\n",
       "      <td>A1</td>\n",
       "      <td>L1</td>\n",
       "      <td>NaN</td>\n",
       "      <td>4.0</td>\n",
       "      <td>13.0</td>\n",
       "      <td>B</td>\n",
       "      <td>2.0</td>\n",
       "      <td>NaN</td>\n",
       "      <td>2.0</td>\n",
       "      <td>NaN</td>\n",
       "    </tr>\n",
       "    <tr>\n",
       "      <th>2</th>\n",
       "      <td>0</td>\n",
       "      <td>61.0</td>\n",
       "      <td>06X</td>\n",
       "      <td>12.0</td>\n",
       "      <td>E</td>\n",
       "      <td>03C</td>\n",
       "      <td>11C</td>\n",
       "      <td>38.0</td>\n",
       "      <td>12L</td>\n",
       "      <td>3</td>\n",
       "      <td>...</td>\n",
       "      <td>NaN</td>\n",
       "      <td>NaN</td>\n",
       "      <td>NaN</td>\n",
       "      <td>25.0</td>\n",
       "      <td>5.0</td>\n",
       "      <td>1</td>\n",
       "      <td>15.0</td>\n",
       "      <td>NaN</td>\n",
       "      <td>NaN</td>\n",
       "      <td>NaN</td>\n",
       "    </tr>\n",
       "    <tr>\n",
       "      <th>3</th>\n",
       "      <td>0</td>\n",
       "      <td>13.0</td>\n",
       "      <td>12B</td>\n",
       "      <td>5.0</td>\n",
       "      <td>E</td>\n",
       "      <td>05C</td>\n",
       "      <td>07U</td>\n",
       "      <td>14.0</td>\n",
       "      <td>05M</td>\n",
       "      <td>1</td>\n",
       "      <td>...</td>\n",
       "      <td>NaN</td>\n",
       "      <td>M1</td>\n",
       "      <td>NaN</td>\n",
       "      <td>14.0</td>\n",
       "      <td>5.0</td>\n",
       "      <td>7</td>\n",
       "      <td>7.0</td>\n",
       "      <td>NaN</td>\n",
       "      <td>2.0</td>\n",
       "      <td>NaN</td>\n",
       "    </tr>\n",
       "    <tr>\n",
       "      <th>4</th>\n",
       "      <td>0</td>\n",
       "      <td>37.0</td>\n",
       "      <td>05X</td>\n",
       "      <td>7.0</td>\n",
       "      <td>E</td>\n",
       "      <td>05C</td>\n",
       "      <td>08C</td>\n",
       "      <td>33.0</td>\n",
       "      <td>11L</td>\n",
       "      <td>1</td>\n",
       "      <td>...</td>\n",
       "      <td>B6</td>\n",
       "      <td>NaN</td>\n",
       "      <td>NaN</td>\n",
       "      <td>13.0</td>\n",
       "      <td>10.0</td>\n",
       "      <td>6</td>\n",
       "      <td>10.0</td>\n",
       "      <td>1.0</td>\n",
       "      <td>2.0</td>\n",
       "      <td>NaN</td>\n",
       "    </tr>\n",
       "  </tbody>\n",
       "</table>\n",
       "<p>5 rows × 264 columns</p>\n",
       "</div>"
      ],
      "text/plain": [
       "   FLOZVPMFT4626A  ibe1270YRFHJ3350O ibe1271DCBOP1538T  ibe1273MMNAC5195E  \\\n",
       "0               0               17.0               12B                9.0   \n",
       "1               0                1.0               11B                7.0   \n",
       "2               0               61.0               06X               12.0   \n",
       "3               0               13.0               12B                5.0   \n",
       "4               0               37.0               05X                7.0   \n",
       "\n",
       "  ibe1273KQXUT2596F ibe1274DFDFF5102Q ibe1275QYWDP9371S  ibe1280ORQKP6566Z  \\\n",
       "0                 E               01C               01C               35.0   \n",
       "1                 E               01C               01C               11.0   \n",
       "2                 E               03C               11C               38.0   \n",
       "3                 E               05C               07U               14.0   \n",
       "4                 E               05C               08C               33.0   \n",
       "\n",
       "  ibe1281AGNWU9303H ibe1281VSZLA4159S        ...         ibe9154GOSYR7154P  \\\n",
       "0               09L                 3        ...                        C1   \n",
       "1               04M                 1        ...                        A1   \n",
       "2               12L                 3        ...                       NaN   \n",
       "3               05M                 1        ...                       NaN   \n",
       "4               11L                 1        ...                        B6   \n",
       "\n",
       "   ibe9180FFUYI1365V  ibe9181PWJGU8847L  ibe9350NHRIV6568X  ibe9351VNIYI1676Y  \\\n",
       "0                NaN                NaN               13.0               13.0   \n",
       "1                 L1                NaN                4.0               13.0   \n",
       "2                NaN                NaN               25.0                5.0   \n",
       "3                 M1                NaN               14.0                5.0   \n",
       "4                NaN                NaN               13.0               10.0   \n",
       "\n",
       "   ibe9356VXVDJ5952B ibe9358UBJWE4744M  ibe9509UGCNU4337M ibe9514RWCHD8503K  \\\n",
       "0                  5               9.0                NaN               NaN   \n",
       "1                  B               2.0                NaN               2.0   \n",
       "2                  1              15.0                NaN               NaN   \n",
       "3                  7               7.0                NaN               2.0   \n",
       "4                  6              10.0                1.0               2.0   \n",
       "\n",
       "  ibe9557OYAAN8636H  \n",
       "0               NaN  \n",
       "1               NaN  \n",
       "2               NaN  \n",
       "3               NaN  \n",
       "4               NaN  \n",
       "\n",
       "[5 rows x 264 columns]"
      ]
     },
     "execution_count": 267,
     "metadata": {},
     "output_type": "execute_result"
    }
   ],
   "source": [
    "df.head()"
   ]
  },
  {
   "cell_type": "markdown",
   "metadata": {},
   "source": [
    "## Drop Categorical values with low variance by converting to labels to dummy variables and summing the standard deviation "
   ]
  },
  {
   "cell_type": "code",
   "execution_count": null,
   "metadata": {
    "collapsed": true
   },
   "outputs": [],
   "source": [
    "def find_low_var_categories(data, threshold = 0.3):\n",
    "    \"\"\"Finds columns with low variance. \n",
    "    \n",
    "    Takes a dataframe as input. Creates a list of columns with low threshold. \n",
    "    These columns can then be dropped from original dataframe. \n",
    "    \"\"\"\n",
    "    low_variance_columns = []\n",
    "    for column in data.columns: \n",
    "        if (data[column].dtype != 'float64') or (data[column].dtype != 'int64'): \n",
    "            if pd.get_dummies(df[column]).std().sum() < threshold:\n",
    "                low_variance_columns.append(column)\n",
    "    return low_variance_columns\n",
    "    "
   ]
  },
  {
   "cell_type": "code",
   "execution_count": null,
   "metadata": {},
   "outputs": [],
   "source": [
    "low_v_categories = find_low_var_categories(df)\n",
    "df.drop(columns=low_v_categories, inplace=True)"
   ]
  },
  {
   "cell_type": "code",
   "execution_count": null,
   "metadata": {},
   "outputs": [],
   "source": [
    "print('Number of low variance category columns dropped: {}'.format(len(low_v_categories)))"
   ]
  },
  {
   "cell_type": "code",
   "execution_count": null,
   "metadata": {},
   "outputs": [],
   "source": [
    "df.head()"
   ]
  },
  {
   "cell_type": "markdown",
   "metadata": {},
   "source": [
    "## Replace NaN values in numerical columns "
   ]
  },
  {
   "cell_type": "code",
   "execution_count": null,
   "metadata": {
    "collapsed": true
   },
   "outputs": [],
   "source": [
    "def replace_NaN(data):\n",
    "    \"\"\"Replace NaN values with the median from numerical column. \n",
    "    \n",
    "    Takes a dataframe as input. Iterates through the dataframe for numeric types columns.   \n",
    "    Replaces any NaN values with median value of column.  \n",
    "    \"\"\"\n",
    "\n",
    "    for column in data.columns: \n",
    "        if (data[column].dtype == 'float64') or (data[column].dtype == 'int64'): \n",
    "            data[column].fillna(data[column].median(), inplace=True)\n",
    "\n",
    "    return data"
   ]
  },
  {
   "cell_type": "code",
   "execution_count": null,
   "metadata": {},
   "outputs": [],
   "source": [
    "df= replace_NaN(df)"
   ]
  },
  {
   "cell_type": "code",
   "execution_count": null,
   "metadata": {},
   "outputs": [],
   "source": [
    "df.head()"
   ]
  },
  {
   "cell_type": "markdown",
   "metadata": {},
   "source": [
    "## Find date like columns and covert to time stamp and then convert to int, this is done in order to create proper temporal spacing between events "
   ]
  },
  {
   "cell_type": "code",
   "execution_count": 197,
   "metadata": {},
   "outputs": [],
   "source": [
    "def time_like(df)\n",
    "\"\"\"Finds time like columns. \n",
    "\n",
    "\"\"\"\n",
    "    time_columns = []\n",
    "    for column in df.columns:\n",
    "        if (df[column].dtype == 'float64') or (df[column].dtype == 'int64'):\n",
    "            if len(str(df[column][0])) >4:\n",
    "                time_columns.append(column)\n",
    "    return time_columns "
   ]
  },
  {
   "cell_type": "code",
   "execution_count": 199,
   "metadata": {},
   "outputs": [
    {
     "data": {
      "text/html": [
       "<div>\n",
       "<style scoped>\n",
       "    .dataframe tbody tr th:only-of-type {\n",
       "        vertical-align: middle;\n",
       "    }\n",
       "\n",
       "    .dataframe tbody tr th {\n",
       "        vertical-align: top;\n",
       "    }\n",
       "\n",
       "    .dataframe thead th {\n",
       "        text-align: right;\n",
       "    }\n",
       "</style>\n",
       "<table border=\"1\" class=\"dataframe\">\n",
       "  <thead>\n",
       "    <tr style=\"text-align: right;\">\n",
       "      <th></th>\n",
       "      <th>ibe6532KHUBA7864D</th>\n",
       "      <th>ibe6533DZDLI9594P</th>\n",
       "      <th>ibe8434JPYKM2838C</th>\n",
       "      <th>ibe8562YXQYT0403F</th>\n",
       "      <th>ibe8563SBHJG6696A</th>\n",
       "      <th>ibe8579PIXYM2487A</th>\n",
       "      <th>ibe8588DPLHE7435F</th>\n",
       "      <th>ibe8592TOWAM1138U</th>\n",
       "      <th>ibe8614UPZWA9445N</th>\n",
       "      <th>ibe8643XQWMK2933S</th>\n",
       "      <th>ibe8840PMLTL7040B</th>\n",
       "      <th>ibe8841KKDQS9567K</th>\n",
       "      <th>ibe8842JMOXL7394P</th>\n",
       "      <th>ibe9042PFXFK2434Y</th>\n",
       "      <th>ibe9047QMSFT7844Y</th>\n",
       "      <th>ibe9052HKVXC1161K</th>\n",
       "      <th>ibe9057AEWDA2240T</th>\n",
       "      <th>ibe9152JHMZI9585O</th>\n",
       "    </tr>\n",
       "  </thead>\n",
       "  <tbody>\n",
       "    <tr>\n",
       "      <th>0</th>\n",
       "      <td>20150513.0</td>\n",
       "      <td>20140426.0</td>\n",
       "      <td>2012.0</td>\n",
       "      <td>2009.0</td>\n",
       "      <td>2009.0</td>\n",
       "      <td>200609.0</td>\n",
       "      <td>1751.0</td>\n",
       "      <td>1982.0</td>\n",
       "      <td>20161.0</td>\n",
       "      <td>200700.0</td>\n",
       "      <td>24034.0</td>\n",
       "      <td>21646.5</td>\n",
       "      <td>20082.0</td>\n",
       "      <td>2009.0</td>\n",
       "      <td>20160106.0</td>\n",
       "      <td>2007.0</td>\n",
       "      <td>20160106.0</td>\n",
       "      <td>20140900.0</td>\n",
       "    </tr>\n",
       "    <tr>\n",
       "      <th>1</th>\n",
       "      <td>20141025.0</td>\n",
       "      <td>20140804.0</td>\n",
       "      <td>2011.0</td>\n",
       "      <td>2009.0</td>\n",
       "      <td>2009.0</td>\n",
       "      <td>201107.0</td>\n",
       "      <td>2957.0</td>\n",
       "      <td>1997.0</td>\n",
       "      <td>20153.0</td>\n",
       "      <td>201107.0</td>\n",
       "      <td>80785.0</td>\n",
       "      <td>21646.5</td>\n",
       "      <td>20082.0</td>\n",
       "      <td>2003.0</td>\n",
       "      <td>20160106.0</td>\n",
       "      <td>1998.0</td>\n",
       "      <td>20160106.0</td>\n",
       "      <td>20141000.0</td>\n",
       "    </tr>\n",
       "    <tr>\n",
       "      <th>2</th>\n",
       "      <td>20141215.0</td>\n",
       "      <td>20140804.0</td>\n",
       "      <td>2012.0</td>\n",
       "      <td>2009.0</td>\n",
       "      <td>2009.0</td>\n",
       "      <td>200609.0</td>\n",
       "      <td>1751.0</td>\n",
       "      <td>1982.0</td>\n",
       "      <td>20153.0</td>\n",
       "      <td>200700.0</td>\n",
       "      <td>24034.0</td>\n",
       "      <td>21646.5</td>\n",
       "      <td>20082.0</td>\n",
       "      <td>2009.0</td>\n",
       "      <td>20160106.0</td>\n",
       "      <td>2007.0</td>\n",
       "      <td>20160106.0</td>\n",
       "      <td>20140300.0</td>\n",
       "    </tr>\n",
       "    <tr>\n",
       "      <th>3</th>\n",
       "      <td>20150707.0</td>\n",
       "      <td>20140804.0</td>\n",
       "      <td>2012.0</td>\n",
       "      <td>2009.0</td>\n",
       "      <td>2009.0</td>\n",
       "      <td>200609.0</td>\n",
       "      <td>1751.0</td>\n",
       "      <td>1982.0</td>\n",
       "      <td>20154.0</td>\n",
       "      <td>201306.0</td>\n",
       "      <td>24034.0</td>\n",
       "      <td>21646.5</td>\n",
       "      <td>20082.0</td>\n",
       "      <td>2012.0</td>\n",
       "      <td>20160106.0</td>\n",
       "      <td>2007.0</td>\n",
       "      <td>20160106.0</td>\n",
       "      <td>20140100.0</td>\n",
       "    </tr>\n",
       "    <tr>\n",
       "      <th>4</th>\n",
       "      <td>20151015.0</td>\n",
       "      <td>20140804.0</td>\n",
       "      <td>2013.0</td>\n",
       "      <td>2009.0</td>\n",
       "      <td>2009.0</td>\n",
       "      <td>200811.0</td>\n",
       "      <td>910.0</td>\n",
       "      <td>1950.0</td>\n",
       "      <td>20154.0</td>\n",
       "      <td>200811.0</td>\n",
       "      <td>87135.0</td>\n",
       "      <td>21646.5</td>\n",
       "      <td>20082.0</td>\n",
       "      <td>2009.0</td>\n",
       "      <td>20160106.0</td>\n",
       "      <td>2007.0</td>\n",
       "      <td>20160106.0</td>\n",
       "      <td>20140300.0</td>\n",
       "    </tr>\n",
       "  </tbody>\n",
       "</table>\n",
       "</div>"
      ],
      "text/plain": [
       "   ibe6532KHUBA7864D  ibe6533DZDLI9594P  ibe8434JPYKM2838C  ibe8562YXQYT0403F  \\\n",
       "0         20150513.0         20140426.0             2012.0             2009.0   \n",
       "1         20141025.0         20140804.0             2011.0             2009.0   \n",
       "2         20141215.0         20140804.0             2012.0             2009.0   \n",
       "3         20150707.0         20140804.0             2012.0             2009.0   \n",
       "4         20151015.0         20140804.0             2013.0             2009.0   \n",
       "\n",
       "   ibe8563SBHJG6696A  ibe8579PIXYM2487A  ibe8588DPLHE7435F  ibe8592TOWAM1138U  \\\n",
       "0             2009.0           200609.0             1751.0             1982.0   \n",
       "1             2009.0           201107.0             2957.0             1997.0   \n",
       "2             2009.0           200609.0             1751.0             1982.0   \n",
       "3             2009.0           200609.0             1751.0             1982.0   \n",
       "4             2009.0           200811.0              910.0             1950.0   \n",
       "\n",
       "   ibe8614UPZWA9445N  ibe8643XQWMK2933S  ibe8840PMLTL7040B  ibe8841KKDQS9567K  \\\n",
       "0            20161.0           200700.0            24034.0            21646.5   \n",
       "1            20153.0           201107.0            80785.0            21646.5   \n",
       "2            20153.0           200700.0            24034.0            21646.5   \n",
       "3            20154.0           201306.0            24034.0            21646.5   \n",
       "4            20154.0           200811.0            87135.0            21646.5   \n",
       "\n",
       "   ibe8842JMOXL7394P  ibe9042PFXFK2434Y  ibe9047QMSFT7844Y  ibe9052HKVXC1161K  \\\n",
       "0            20082.0             2009.0         20160106.0             2007.0   \n",
       "1            20082.0             2003.0         20160106.0             1998.0   \n",
       "2            20082.0             2009.0         20160106.0             2007.0   \n",
       "3            20082.0             2012.0         20160106.0             2007.0   \n",
       "4            20082.0             2009.0         20160106.0             2007.0   \n",
       "\n",
       "   ibe9057AEWDA2240T  ibe9152JHMZI9585O  \n",
       "0         20160106.0         20140900.0  \n",
       "1         20160106.0         20141000.0  \n",
       "2         20160106.0         20140300.0  \n",
       "3         20160106.0         20140100.0  \n",
       "4         20160106.0         20140300.0  "
      ]
     },
     "execution_count": 199,
     "metadata": {},
     "output_type": "execute_result"
    }
   ],
   "source": [
    "df[time_columns].head()"
   ]
  },
  {
   "cell_type": "code",
   "execution_count": 245,
   "metadata": {},
   "outputs": [],
   "source": [
    "# Visually inspecting items that are not potential time stamps\n",
    "not_time_columns = ['ibe8588DPLHE7435F', 'ibe8840PMLTL7040B', 'ibe8841KKDQS9567K']\n",
    "real_time_columns = [item for item in time_columns if item not in not_time_columns]"
   ]
  },
  {
   "cell_type": "code",
   "execution_count": 246,
   "metadata": {},
   "outputs": [
    {
     "data": {
      "text/html": [
       "<div>\n",
       "<style scoped>\n",
       "    .dataframe tbody tr th:only-of-type {\n",
       "        vertical-align: middle;\n",
       "    }\n",
       "\n",
       "    .dataframe tbody tr th {\n",
       "        vertical-align: top;\n",
       "    }\n",
       "\n",
       "    .dataframe thead th {\n",
       "        text-align: right;\n",
       "    }\n",
       "</style>\n",
       "<table border=\"1\" class=\"dataframe\">\n",
       "  <thead>\n",
       "    <tr style=\"text-align: right;\">\n",
       "      <th></th>\n",
       "      <th>ibe6532KHUBA7864D</th>\n",
       "      <th>ibe6533DZDLI9594P</th>\n",
       "      <th>ibe8434JPYKM2838C</th>\n",
       "      <th>ibe8562YXQYT0403F</th>\n",
       "      <th>ibe8563SBHJG6696A</th>\n",
       "      <th>ibe8579PIXYM2487A</th>\n",
       "      <th>ibe8592TOWAM1138U</th>\n",
       "      <th>ibe8614UPZWA9445N</th>\n",
       "      <th>ibe8643XQWMK2933S</th>\n",
       "      <th>ibe8842JMOXL7394P</th>\n",
       "      <th>ibe9042PFXFK2434Y</th>\n",
       "      <th>ibe9047QMSFT7844Y</th>\n",
       "      <th>ibe9052HKVXC1161K</th>\n",
       "      <th>ibe9057AEWDA2240T</th>\n",
       "      <th>ibe9152JHMZI9585O</th>\n",
       "    </tr>\n",
       "  </thead>\n",
       "  <tbody>\n",
       "    <tr>\n",
       "      <th>0</th>\n",
       "      <td>20150513.0</td>\n",
       "      <td>20140426.0</td>\n",
       "      <td>2012.0</td>\n",
       "      <td>2009.0</td>\n",
       "      <td>2009.0</td>\n",
       "      <td>200609.0</td>\n",
       "      <td>1982.0</td>\n",
       "      <td>20161.0</td>\n",
       "      <td>200700.0</td>\n",
       "      <td>20082.0</td>\n",
       "      <td>2009.0</td>\n",
       "      <td>20160106.0</td>\n",
       "      <td>2007.0</td>\n",
       "      <td>20160106.0</td>\n",
       "      <td>20140900.0</td>\n",
       "    </tr>\n",
       "    <tr>\n",
       "      <th>1</th>\n",
       "      <td>20141025.0</td>\n",
       "      <td>20140804.0</td>\n",
       "      <td>2011.0</td>\n",
       "      <td>2009.0</td>\n",
       "      <td>2009.0</td>\n",
       "      <td>201107.0</td>\n",
       "      <td>1997.0</td>\n",
       "      <td>20153.0</td>\n",
       "      <td>201107.0</td>\n",
       "      <td>20082.0</td>\n",
       "      <td>2003.0</td>\n",
       "      <td>20160106.0</td>\n",
       "      <td>1998.0</td>\n",
       "      <td>20160106.0</td>\n",
       "      <td>20141000.0</td>\n",
       "    </tr>\n",
       "    <tr>\n",
       "      <th>2</th>\n",
       "      <td>20141215.0</td>\n",
       "      <td>20140804.0</td>\n",
       "      <td>2012.0</td>\n",
       "      <td>2009.0</td>\n",
       "      <td>2009.0</td>\n",
       "      <td>200609.0</td>\n",
       "      <td>1982.0</td>\n",
       "      <td>20153.0</td>\n",
       "      <td>200700.0</td>\n",
       "      <td>20082.0</td>\n",
       "      <td>2009.0</td>\n",
       "      <td>20160106.0</td>\n",
       "      <td>2007.0</td>\n",
       "      <td>20160106.0</td>\n",
       "      <td>20140300.0</td>\n",
       "    </tr>\n",
       "    <tr>\n",
       "      <th>3</th>\n",
       "      <td>20150707.0</td>\n",
       "      <td>20140804.0</td>\n",
       "      <td>2012.0</td>\n",
       "      <td>2009.0</td>\n",
       "      <td>2009.0</td>\n",
       "      <td>200609.0</td>\n",
       "      <td>1982.0</td>\n",
       "      <td>20154.0</td>\n",
       "      <td>201306.0</td>\n",
       "      <td>20082.0</td>\n",
       "      <td>2012.0</td>\n",
       "      <td>20160106.0</td>\n",
       "      <td>2007.0</td>\n",
       "      <td>20160106.0</td>\n",
       "      <td>20140100.0</td>\n",
       "    </tr>\n",
       "    <tr>\n",
       "      <th>4</th>\n",
       "      <td>20151015.0</td>\n",
       "      <td>20140804.0</td>\n",
       "      <td>2013.0</td>\n",
       "      <td>2009.0</td>\n",
       "      <td>2009.0</td>\n",
       "      <td>200811.0</td>\n",
       "      <td>1950.0</td>\n",
       "      <td>20154.0</td>\n",
       "      <td>200811.0</td>\n",
       "      <td>20082.0</td>\n",
       "      <td>2009.0</td>\n",
       "      <td>20160106.0</td>\n",
       "      <td>2007.0</td>\n",
       "      <td>20160106.0</td>\n",
       "      <td>20140300.0</td>\n",
       "    </tr>\n",
       "  </tbody>\n",
       "</table>\n",
       "</div>"
      ],
      "text/plain": [
       "   ibe6532KHUBA7864D  ibe6533DZDLI9594P  ibe8434JPYKM2838C  ibe8562YXQYT0403F  \\\n",
       "0         20150513.0         20140426.0             2012.0             2009.0   \n",
       "1         20141025.0         20140804.0             2011.0             2009.0   \n",
       "2         20141215.0         20140804.0             2012.0             2009.0   \n",
       "3         20150707.0         20140804.0             2012.0             2009.0   \n",
       "4         20151015.0         20140804.0             2013.0             2009.0   \n",
       "\n",
       "   ibe8563SBHJG6696A  ibe8579PIXYM2487A  ibe8592TOWAM1138U  ibe8614UPZWA9445N  \\\n",
       "0             2009.0           200609.0             1982.0            20161.0   \n",
       "1             2009.0           201107.0             1997.0            20153.0   \n",
       "2             2009.0           200609.0             1982.0            20153.0   \n",
       "3             2009.0           200609.0             1982.0            20154.0   \n",
       "4             2009.0           200811.0             1950.0            20154.0   \n",
       "\n",
       "   ibe8643XQWMK2933S  ibe8842JMOXL7394P  ibe9042PFXFK2434Y  ibe9047QMSFT7844Y  \\\n",
       "0           200700.0            20082.0             2009.0         20160106.0   \n",
       "1           201107.0            20082.0             2003.0         20160106.0   \n",
       "2           200700.0            20082.0             2009.0         20160106.0   \n",
       "3           201306.0            20082.0             2012.0         20160106.0   \n",
       "4           200811.0            20082.0             2009.0         20160106.0   \n",
       "\n",
       "   ibe9052HKVXC1161K  ibe9057AEWDA2240T  ibe9152JHMZI9585O  \n",
       "0             2007.0         20160106.0         20140900.0  \n",
       "1             1998.0         20160106.0         20141000.0  \n",
       "2             2007.0         20160106.0         20140300.0  \n",
       "3             2007.0         20160106.0         20140100.0  \n",
       "4             2007.0         20160106.0         20140300.0  "
      ]
     },
     "execution_count": 246,
     "metadata": {},
     "output_type": "execute_result"
    }
   ],
   "source": [
    "df[real_time_columns ].head()"
   ]
  },
  {
   "cell_type": "code",
   "execution_count": 254,
   "metadata": {},
   "outputs": [
    {
     "data": {
      "text/plain": [
       "1.0589473684210526"
      ]
     },
     "execution_count": 254,
     "metadata": {},
     "output_type": "execute_result"
    }
   ],
   "source": [
    "df['ibe8434JPYKM2838C'][0]/1900"
   ]
  },
  {
   "cell_type": "code",
   "execution_count": null,
   "metadata": {
    "collapsed": true
   },
   "outputs": [],
   "source": [
    "for column in df.columns: \n",
    "    df[column] = "
   ]
  },
  {
   "cell_type": "code",
   "execution_count": 235,
   "metadata": {},
   "outputs": [],
   "source": [
    "hard_date = pd.to_datetime(df['ibe8562YXQYT0403F'].astype(int), format = '%Y')"
   ]
  },
  {
   "cell_type": "code",
   "execution_count": 233,
   "metadata": {},
   "outputs": [],
   "source": [
    "hard_date = pd.to_datetime(df['ibe6533DZDLI9594P'].astype(int), format = '%Y%m%d')"
   ]
  },
  {
   "cell_type": "code",
   "execution_count": 236,
   "metadata": {},
   "outputs": [
    {
     "data": {
      "text/plain": [
       "0       2009-01-01\n",
       "1       2009-01-01\n",
       "2       2009-01-01\n",
       "3       2009-01-01\n",
       "4       2009-01-01\n",
       "5       2003-01-01\n",
       "6       2009-01-01\n",
       "7       2009-01-01\n",
       "8       2009-01-01\n",
       "9       2009-01-01\n",
       "10      2009-01-01\n",
       "11      2009-01-01\n",
       "12      2009-01-01\n",
       "13      2009-01-01\n",
       "14      2009-01-01\n",
       "15      2004-01-01\n",
       "16      2009-01-01\n",
       "17      2009-01-01\n",
       "18      2009-01-01\n",
       "19      2009-01-01\n",
       "20      2009-01-01\n",
       "21      2009-01-01\n",
       "22      2009-01-01\n",
       "23      2009-01-01\n",
       "24      2009-01-01\n",
       "25      2002-01-01\n",
       "26      2009-01-01\n",
       "27      2009-01-01\n",
       "28      2009-01-01\n",
       "29      2009-01-01\n",
       "           ...    \n",
       "99970   2009-01-01\n",
       "99971   2009-01-01\n",
       "99972   2009-01-01\n",
       "99973   2009-01-01\n",
       "99974   2003-01-01\n",
       "99975   2009-01-01\n",
       "99976   2009-01-01\n",
       "99977   2009-01-01\n",
       "99978   2009-01-01\n",
       "99979   2009-01-01\n",
       "99980   2013-01-01\n",
       "99981   2009-01-01\n",
       "99982   2004-01-01\n",
       "99983   2009-01-01\n",
       "99984   2003-01-01\n",
       "99985   2009-01-01\n",
       "99986   2009-01-01\n",
       "99987   2009-01-01\n",
       "99988   2009-01-01\n",
       "99989   2009-01-01\n",
       "99990   2009-01-01\n",
       "99991   2009-01-01\n",
       "99992   2009-01-01\n",
       "99993   2009-01-01\n",
       "99994   2009-01-01\n",
       "99995   2009-01-01\n",
       "99996   2009-01-01\n",
       "99997   2009-01-01\n",
       "99998   2009-01-01\n",
       "99999   2009-01-01\n",
       "Name: ibe8562YXQYT0403F, Length: 100000, dtype: datetime64[ns]"
      ]
     },
     "execution_count": 236,
     "metadata": {},
     "output_type": "execute_result"
    }
   ],
   "source": [
    "hard_date"
   ]
  },
  {
   "cell_type": "code",
   "execution_count": 237,
   "metadata": {},
   "outputs": [
    {
     "data": {
      "text/plain": [
       "0        1230768000000000000\n",
       "1        1230768000000000000\n",
       "2        1230768000000000000\n",
       "3        1230768000000000000\n",
       "4        1230768000000000000\n",
       "5        1041379200000000000\n",
       "6        1230768000000000000\n",
       "7        1230768000000000000\n",
       "8        1230768000000000000\n",
       "9        1230768000000000000\n",
       "10       1230768000000000000\n",
       "11       1230768000000000000\n",
       "12       1230768000000000000\n",
       "13       1230768000000000000\n",
       "14       1230768000000000000\n",
       "15       1072915200000000000\n",
       "16       1230768000000000000\n",
       "17       1230768000000000000\n",
       "18       1230768000000000000\n",
       "19       1230768000000000000\n",
       "20       1230768000000000000\n",
       "21       1230768000000000000\n",
       "22       1230768000000000000\n",
       "23       1230768000000000000\n",
       "24       1230768000000000000\n",
       "25       1009843200000000000\n",
       "26       1230768000000000000\n",
       "27       1230768000000000000\n",
       "28       1230768000000000000\n",
       "29       1230768000000000000\n",
       "                ...         \n",
       "99970    1230768000000000000\n",
       "99971    1230768000000000000\n",
       "99972    1230768000000000000\n",
       "99973    1230768000000000000\n",
       "99974    1041379200000000000\n",
       "99975    1230768000000000000\n",
       "99976    1230768000000000000\n",
       "99977    1230768000000000000\n",
       "99978    1230768000000000000\n",
       "99979    1230768000000000000\n",
       "99980    1356998400000000000\n",
       "99981    1230768000000000000\n",
       "99982    1072915200000000000\n",
       "99983    1230768000000000000\n",
       "99984    1041379200000000000\n",
       "99985    1230768000000000000\n",
       "99986    1230768000000000000\n",
       "99987    1230768000000000000\n",
       "99988    1230768000000000000\n",
       "99989    1230768000000000000\n",
       "99990    1230768000000000000\n",
       "99991    1230768000000000000\n",
       "99992    1230768000000000000\n",
       "99993    1230768000000000000\n",
       "99994    1230768000000000000\n",
       "99995    1230768000000000000\n",
       "99996    1230768000000000000\n",
       "99997    1230768000000000000\n",
       "99998    1230768000000000000\n",
       "99999    1230768000000000000\n",
       "Name: ibe8562YXQYT0403F, Length: 100000, dtype: int64"
      ]
     },
     "execution_count": 237,
     "metadata": {},
     "output_type": "execute_result"
    }
   ],
   "source": [
    "hard_date.astype(np.int64)"
   ]
  },
  {
   "cell_type": "markdown",
   "metadata": {},
   "source": [
    "## Save cleaned up dataframe as csv"
   ]
  },
  {
   "cell_type": "code",
   "execution_count": 160,
   "metadata": {},
   "outputs": [],
   "source": [
    "filename = 'data/interim/cleaned_columns.csv'\n",
    "df.to_csv(path_or_buf=filename, index=False)"
   ]
  },
  {
   "cell_type": "code",
   "execution_count": 195,
   "metadata": {
    "collapsed": true
   },
   "outputs": [],
   "source": [
    "df = pd.read_csv(filename)"
   ]
  },
  {
   "cell_type": "code",
   "execution_count": 196,
   "metadata": {},
   "outputs": [
    {
     "data": {
      "text/html": [
       "<div>\n",
       "<style scoped>\n",
       "    .dataframe tbody tr th:only-of-type {\n",
       "        vertical-align: middle;\n",
       "    }\n",
       "\n",
       "    .dataframe tbody tr th {\n",
       "        vertical-align: top;\n",
       "    }\n",
       "\n",
       "    .dataframe thead th {\n",
       "        text-align: right;\n",
       "    }\n",
       "</style>\n",
       "<table border=\"1\" class=\"dataframe\">\n",
       "  <thead>\n",
       "    <tr style=\"text-align: right;\">\n",
       "      <th></th>\n",
       "      <th>FLOZVPMFT4626A</th>\n",
       "      <th>ibe1270YRFHJ3350O</th>\n",
       "      <th>ibe1271DCBOP1538T</th>\n",
       "      <th>ibe1273MMNAC5195E</th>\n",
       "      <th>ibe1273KQXUT2596F</th>\n",
       "      <th>ibe1274DFDFF5102Q</th>\n",
       "      <th>ibe1275QYWDP9371S</th>\n",
       "      <th>ibe1280ORQKP6566Z</th>\n",
       "      <th>ibe1281AGNWU9303H</th>\n",
       "      <th>ibe1281VSZLA4159S</th>\n",
       "      <th>...</th>\n",
       "      <th>ibe9153QSXNN0648A</th>\n",
       "      <th>ibe9154GOSYR7154P</th>\n",
       "      <th>ibe9180FFUYI1365V</th>\n",
       "      <th>ibe9181PWJGU8847L</th>\n",
       "      <th>ibe9350NHRIV6568X</th>\n",
       "      <th>ibe9351VNIYI1676Y</th>\n",
       "      <th>ibe9356VXVDJ5952B</th>\n",
       "      <th>ibe9358UBJWE4744M</th>\n",
       "      <th>ibe9509UGCNU4337M</th>\n",
       "      <th>ibe9514RWCHD8503K</th>\n",
       "    </tr>\n",
       "  </thead>\n",
       "  <tbody>\n",
       "    <tr>\n",
       "      <th>0</th>\n",
       "      <td>0</td>\n",
       "      <td>17.0</td>\n",
       "      <td>12B</td>\n",
       "      <td>9.0</td>\n",
       "      <td>E</td>\n",
       "      <td>01C</td>\n",
       "      <td>01C</td>\n",
       "      <td>35.0</td>\n",
       "      <td>09L</td>\n",
       "      <td>3</td>\n",
       "      <td>...</td>\n",
       "      <td>1</td>\n",
       "      <td>C1</td>\n",
       "      <td>NaN</td>\n",
       "      <td>NaN</td>\n",
       "      <td>13.0</td>\n",
       "      <td>13.0</td>\n",
       "      <td>5</td>\n",
       "      <td>9.0</td>\n",
       "      <td>1.0</td>\n",
       "      <td>1.0</td>\n",
       "    </tr>\n",
       "    <tr>\n",
       "      <th>1</th>\n",
       "      <td>0</td>\n",
       "      <td>1.0</td>\n",
       "      <td>11B</td>\n",
       "      <td>7.0</td>\n",
       "      <td>E</td>\n",
       "      <td>01C</td>\n",
       "      <td>01C</td>\n",
       "      <td>11.0</td>\n",
       "      <td>04M</td>\n",
       "      <td>1</td>\n",
       "      <td>...</td>\n",
       "      <td>0</td>\n",
       "      <td>A1</td>\n",
       "      <td>L1</td>\n",
       "      <td>NaN</td>\n",
       "      <td>4.0</td>\n",
       "      <td>13.0</td>\n",
       "      <td>B</td>\n",
       "      <td>2.0</td>\n",
       "      <td>1.0</td>\n",
       "      <td>2.0</td>\n",
       "    </tr>\n",
       "    <tr>\n",
       "      <th>2</th>\n",
       "      <td>0</td>\n",
       "      <td>61.0</td>\n",
       "      <td>06X</td>\n",
       "      <td>12.0</td>\n",
       "      <td>E</td>\n",
       "      <td>03C</td>\n",
       "      <td>11C</td>\n",
       "      <td>38.0</td>\n",
       "      <td>12L</td>\n",
       "      <td>3</td>\n",
       "      <td>...</td>\n",
       "      <td>0</td>\n",
       "      <td>NaN</td>\n",
       "      <td>NaN</td>\n",
       "      <td>NaN</td>\n",
       "      <td>25.0</td>\n",
       "      <td>5.0</td>\n",
       "      <td>1</td>\n",
       "      <td>15.0</td>\n",
       "      <td>1.0</td>\n",
       "      <td>1.0</td>\n",
       "    </tr>\n",
       "    <tr>\n",
       "      <th>3</th>\n",
       "      <td>0</td>\n",
       "      <td>13.0</td>\n",
       "      <td>12B</td>\n",
       "      <td>5.0</td>\n",
       "      <td>E</td>\n",
       "      <td>05C</td>\n",
       "      <td>07U</td>\n",
       "      <td>14.0</td>\n",
       "      <td>05M</td>\n",
       "      <td>1</td>\n",
       "      <td>...</td>\n",
       "      <td>0</td>\n",
       "      <td>NaN</td>\n",
       "      <td>M1</td>\n",
       "      <td>NaN</td>\n",
       "      <td>14.0</td>\n",
       "      <td>5.0</td>\n",
       "      <td>7</td>\n",
       "      <td>7.0</td>\n",
       "      <td>1.0</td>\n",
       "      <td>2.0</td>\n",
       "    </tr>\n",
       "    <tr>\n",
       "      <th>4</th>\n",
       "      <td>0</td>\n",
       "      <td>37.0</td>\n",
       "      <td>05X</td>\n",
       "      <td>7.0</td>\n",
       "      <td>E</td>\n",
       "      <td>05C</td>\n",
       "      <td>08C</td>\n",
       "      <td>33.0</td>\n",
       "      <td>11L</td>\n",
       "      <td>1</td>\n",
       "      <td>...</td>\n",
       "      <td>0</td>\n",
       "      <td>B6</td>\n",
       "      <td>NaN</td>\n",
       "      <td>NaN</td>\n",
       "      <td>13.0</td>\n",
       "      <td>10.0</td>\n",
       "      <td>6</td>\n",
       "      <td>10.0</td>\n",
       "      <td>1.0</td>\n",
       "      <td>2.0</td>\n",
       "    </tr>\n",
       "  </tbody>\n",
       "</table>\n",
       "<p>5 rows × 242 columns</p>\n",
       "</div>"
      ],
      "text/plain": [
       "   FLOZVPMFT4626A  ibe1270YRFHJ3350O ibe1271DCBOP1538T  ibe1273MMNAC5195E  \\\n",
       "0               0               17.0               12B                9.0   \n",
       "1               0                1.0               11B                7.0   \n",
       "2               0               61.0               06X               12.0   \n",
       "3               0               13.0               12B                5.0   \n",
       "4               0               37.0               05X                7.0   \n",
       "\n",
       "  ibe1273KQXUT2596F ibe1274DFDFF5102Q ibe1275QYWDP9371S  ibe1280ORQKP6566Z  \\\n",
       "0                 E               01C               01C               35.0   \n",
       "1                 E               01C               01C               11.0   \n",
       "2                 E               03C               11C               38.0   \n",
       "3                 E               05C               07U               14.0   \n",
       "4                 E               05C               08C               33.0   \n",
       "\n",
       "  ibe1281AGNWU9303H ibe1281VSZLA4159S        ...          ibe9153QSXNN0648A  \\\n",
       "0               09L                 3        ...                          1   \n",
       "1               04M                 1        ...                          0   \n",
       "2               12L                 3        ...                          0   \n",
       "3               05M                 1        ...                          0   \n",
       "4               11L                 1        ...                          0   \n",
       "\n",
       "   ibe9154GOSYR7154P  ibe9180FFUYI1365V  ibe9181PWJGU8847L  ibe9350NHRIV6568X  \\\n",
       "0                 C1                NaN                NaN               13.0   \n",
       "1                 A1                 L1                NaN                4.0   \n",
       "2                NaN                NaN                NaN               25.0   \n",
       "3                NaN                 M1                NaN               14.0   \n",
       "4                 B6                NaN                NaN               13.0   \n",
       "\n",
       "   ibe9351VNIYI1676Y  ibe9356VXVDJ5952B ibe9358UBJWE4744M  ibe9509UGCNU4337M  \\\n",
       "0               13.0                  5               9.0                1.0   \n",
       "1               13.0                  B               2.0                1.0   \n",
       "2                5.0                  1              15.0                1.0   \n",
       "3                5.0                  7               7.0                1.0   \n",
       "4               10.0                  6              10.0                1.0   \n",
       "\n",
       "   ibe9514RWCHD8503K  \n",
       "0                1.0  \n",
       "1                2.0  \n",
       "2                1.0  \n",
       "3                2.0  \n",
       "4                2.0  \n",
       "\n",
       "[5 rows x 242 columns]"
      ]
     },
     "execution_count": 196,
     "metadata": {},
     "output_type": "execute_result"
    }
   ],
   "source": [
    "df.head()"
   ]
  },
  {
   "cell_type": "code",
   "execution_count": 123,
   "metadata": {},
   "outputs": [
    {
     "data": {
      "text/plain": [
       "dtype('float64')"
      ]
     },
     "execution_count": 123,
     "metadata": {},
     "output_type": "execute_result"
    }
   ],
   "source": [
    "df['ibe1273MMNAC5195E'].dtype"
   ]
  },
  {
   "cell_type": "markdown",
   "metadata": {},
   "source": [
    "## Convert datetime to int "
   ]
  },
  {
   "cell_type": "code",
   "execution_count": null,
   "metadata": {},
   "outputs": [],
   "source": [
    "foo_df = pd.DataFrame({'date':[20170601,20180601,20190601]})\n",
    "foo_df"
   ]
  },
  {
   "cell_type": "code",
   "execution_count": null,
   "metadata": {},
   "outputs": [],
   "source": [
    "pd.get_dummies(foo_df)"
   ]
  },
  {
   "cell_type": "code",
   "execution_count": null,
   "metadata": {},
   "outputs": [],
   "source": [
    "hard_date = pd.to_datetime(foo_df['date'].astype(str), format = '%Y%m%d')"
   ]
  },
  {
   "cell_type": "code",
   "execution_count": null,
   "metadata": {},
   "outputs": [],
   "source": [
    "hard_date"
   ]
  },
  {
   "cell_type": "code",
   "execution_count": null,
   "metadata": {},
   "outputs": [],
   "source": [
    "hard_date.astype(np.int64)"
   ]
  },
  {
   "cell_type": "markdown",
   "metadata": {},
   "source": [
    "# Load and preprocess data "
   ]
  },
  {
   "cell_type": "code",
   "execution_count": 166,
   "metadata": {},
   "outputs": [],
   "source": [
    "# Load data \n",
    "data =pd.get_dummies(df.iloc[:,1:50]).values\n",
    "target = df.iloc[:,0].values"
   ]
  },
  {
   "cell_type": "code",
   "execution_count": 167,
   "metadata": {},
   "outputs": [
    {
     "name": "stdout",
     "output_type": "stream",
     "text": [
      "(75000, 599) (25000, 599)\n"
     ]
    }
   ],
   "source": [
    "from sklearn.model_selection import train_test_split\n",
    "\n",
    "Xtrain, Xtest, ytrain, ytest = train_test_split(data, target,\n",
    "                                                random_state=2)\n",
    "print(Xtrain.shape, Xtest.shape)"
   ]
  },
  {
   "cell_type": "code",
   "execution_count": 168,
   "metadata": {},
   "outputs": [],
   "source": [
    "# preprocess data \n",
    "from sklearn.preprocessing import StandardScaler\n",
    "scaler = StandardScaler()\n",
    "scaler.fit(Xtrain)  # Don't cheat - fit only on training data\n",
    "Xtrain = scaler.transform(Xtrain)\n",
    "Xtest = scaler.transform(Xtest)  # apply same transformation to test data"
   ]
  },
  {
   "cell_type": "code",
   "execution_count": 169,
   "metadata": {},
   "outputs": [
    {
     "name": "stdout",
     "output_type": "stream",
     "text": [
      "Mean of random array: 0.0\n",
      "Std of random array: 1.0\n"
     ]
    }
   ],
   "source": [
    "# verify preprocess is working correctly \n",
    "print('Mean of random array: {}'.format(round(Xtrain[:,8].mean())))\n",
    "print('Std of random array: {}'.format(round(Xtrain[:,8].std())))"
   ]
  },
  {
   "cell_type": "markdown",
   "metadata": {},
   "source": [
    "# Try Logistic Regression as a classifier "
   ]
  },
  {
   "cell_type": "code",
   "execution_count": 170,
   "metadata": {},
   "outputs": [
    {
     "name": "stderr",
     "output_type": "stream",
     "text": [
      "/Users/cristian/anaconda/lib/python3.6/site-packages/sklearn/linear_model/logistic.py:432: FutureWarning: Default solver will be changed to 'lbfgs' in 0.22. Specify a solver to silence this warning.\n",
      "  FutureWarning)\n"
     ]
    }
   ],
   "source": [
    "from sklearn.linear_model import LogisticRegression\n",
    "clf = LogisticRegression()\n",
    "clf.fit(Xtrain, ytrain)\n",
    "ypred = clf.predict(Xtest)"
   ]
  },
  {
   "cell_type": "code",
   "execution_count": 171,
   "metadata": {},
   "outputs": [
    {
     "data": {
      "text/plain": [
       "0.76912"
      ]
     },
     "execution_count": 171,
     "metadata": {},
     "output_type": "execute_result"
    }
   ],
   "source": [
    "from sklearn.metrics import accuracy_score\n",
    "accuracy_score(ytest, ypred)"
   ]
  },
  {
   "cell_type": "code",
   "execution_count": 172,
   "metadata": {},
   "outputs": [
    {
     "name": "stdout",
     "output_type": "stream",
     "text": [
      "[[17846   859]\n",
      " [ 4913  1382]]\n"
     ]
    }
   ],
   "source": [
    "from sklearn.metrics import confusion_matrix\n",
    "print(confusion_matrix(ytest, ypred))"
   ]
  },
  {
   "cell_type": "markdown",
   "metadata": {},
   "source": [
    "## Try SGD \n",
    "https://scikit-learn.org/stable/tutorial/machine_learning_map/\n",
    "\n",
    "https://scikit-learn.org/stable/modules/sgd.html#classification\n"
   ]
  },
  {
   "cell_type": "code",
   "execution_count": 173,
   "metadata": {},
   "outputs": [],
   "source": [
    "from sklearn.linear_model import SGDClassifier\n",
    "clf = SGDClassifier(loss=\"huber\", max_iter=20)\n",
    "clf.fit(Xtrain, ytrain)\n",
    "ypred = clf.predict(Xtest)"
   ]
  },
  {
   "cell_type": "code",
   "execution_count": 174,
   "metadata": {},
   "outputs": [
    {
     "data": {
      "text/plain": [
       "0.7474"
      ]
     },
     "execution_count": 174,
     "metadata": {},
     "output_type": "execute_result"
    }
   ],
   "source": [
    "ypred = clf.predict(Xtest)\n",
    "accuracy_score(ytest, ypred)"
   ]
  },
  {
   "cell_type": "markdown",
   "metadata": {},
   "source": [
    "# Regression Forrest "
   ]
  },
  {
   "cell_type": "code",
   "execution_count": 175,
   "metadata": {},
   "outputs": [
    {
     "data": {
      "text/plain": [
       "DecisionTreeClassifier(class_weight=None, criterion='gini', max_depth=11,\n",
       "            max_features=None, max_leaf_nodes=None,\n",
       "            min_impurity_decrease=0.0, min_impurity_split=None,\n",
       "            min_samples_leaf=1, min_samples_split=2,\n",
       "            min_weight_fraction_leaf=0.0, presort=False, random_state=None,\n",
       "            splitter='best')"
      ]
     },
     "execution_count": 175,
     "metadata": {},
     "output_type": "execute_result"
    }
   ],
   "source": [
    "from sklearn.tree import DecisionTreeClassifier\n",
    "clf = DecisionTreeClassifier(max_depth=11)\n",
    "clf.fit(Xtrain, ytrain)\n"
   ]
  },
  {
   "cell_type": "code",
   "execution_count": 176,
   "metadata": {},
   "outputs": [
    {
     "data": {
      "text/plain": [
       "0.75824"
      ]
     },
     "execution_count": 176,
     "metadata": {},
     "output_type": "execute_result"
    }
   ],
   "source": [
    "ypred = clf.predict(Xtest)\n",
    "accuracy_score(ytest, ypred)"
   ]
  },
  {
   "cell_type": "code",
   "execution_count": 177,
   "metadata": {},
   "outputs": [
    {
     "data": {
      "text/plain": [
       "RandomForestClassifier(bootstrap=True, class_weight=None, criterion='gini',\n",
       "            max_depth=None, max_features='auto', max_leaf_nodes=None,\n",
       "            min_impurity_decrease=0.0, min_impurity_split=None,\n",
       "            min_samples_leaf=1, min_samples_split=2,\n",
       "            min_weight_fraction_leaf=0.0, n_estimators=100, n_jobs=-1,\n",
       "            oob_score=False, random_state=0, verbose=0, warm_start=False)"
      ]
     },
     "execution_count": 177,
     "metadata": {},
     "output_type": "execute_result"
    }
   ],
   "source": [
    "from sklearn.ensemble import RandomForestClassifier\n",
    "clf = RandomForestClassifier(n_estimators=100, random_state=0, n_jobs=-1)\n",
    "clf.fit(Xtrain, ytrain)"
   ]
  },
  {
   "cell_type": "code",
   "execution_count": 178,
   "metadata": {},
   "outputs": [
    {
     "data": {
      "text/plain": [
       "0.77204"
      ]
     },
     "execution_count": 178,
     "metadata": {},
     "output_type": "execute_result"
    }
   ],
   "source": [
    "ypred = clf.predict(Xtest)\n",
    "accuracy_score(ytest, ypred)"
   ]
  },
  {
   "cell_type": "code",
   "execution_count": 179,
   "metadata": {},
   "outputs": [
    {
     "data": {
      "text/plain": [
       "array([2.23433274e-02, 4.98401887e-02, 4.34703956e-02, 4.44615559e-03,\n",
       "       4.87421697e-03, 6.09243018e-03, 6.23425980e-03, 3.39313078e-03,\n",
       "       5.23181238e-03, 4.72705316e-03, 4.94208029e-02, 2.99107909e-03,\n",
       "       1.43540116e-02, 3.51092452e-03, 3.12217396e-02, 3.37875411e-02,\n",
       "       3.12180282e-02, 2.70634609e-02, 2.47330982e-02, 3.50226619e-02,\n",
       "       1.79446127e-03, 3.30490104e-03, 8.86124065e-04, 1.80188930e-03,\n",
       "       1.28516703e-03, 3.78183661e-03, 2.53432944e-03, 1.95008573e-03,\n",
       "       2.05178909e-03, 1.27773918e-03, 2.24502940e-03, 2.22954373e-03,\n",
       "       1.01324799e-03, 2.00023322e-03, 1.46543229e-03, 1.21428998e-03,\n",
       "       1.24122576e-03, 4.26854919e-04, 1.56676157e-03, 9.87125261e-04,\n",
       "       5.34411703e-04, 8.08011554e-04, 2.37444337e-03, 1.93866498e-03,\n",
       "       2.05900056e-03, 1.35551473e-03, 3.84528483e-03, 1.39290058e-03,\n",
       "       2.52362872e-03, 5.22891780e-03, 9.33458923e-04, 2.63617680e-03,\n",
       "       1.98727997e-03, 8.37961597e-04, 9.92680205e-04, 1.84790669e-03,\n",
       "       1.82421371e-03, 2.09585794e-03, 2.17749113e-03, 2.36394050e-03,\n",
       "       9.57734561e-04, 1.13339919e-03, 1.43439331e-03, 4.01168825e-03,\n",
       "       2.03701797e-03, 1.10317623e-03, 6.19982893e-04, 6.12063218e-03,\n",
       "       1.44029319e-03, 4.50592605e-03, 1.26510944e-02, 3.88662214e-03,\n",
       "       2.29751686e-03, 3.92811332e-03, 4.44821509e-03, 3.09589321e-03,\n",
       "       2.74179959e-03, 1.91673414e-03, 1.47792818e-03, 3.50254934e-03,\n",
       "       2.05961493e-03, 1.52333604e-03, 6.39443667e-03, 6.86827587e-03,\n",
       "       1.15843538e-03, 1.62958715e-03, 3.65883330e-07, 5.13741083e-05,\n",
       "       6.83512760e-07, 4.08854200e-04, 6.37094410e-06, 1.09732957e-05,\n",
       "       0.00000000e+00, 0.00000000e+00, 7.05476509e-07, 0.00000000e+00,\n",
       "       4.04931160e-07, 3.25824405e-04, 5.48211052e-08, 3.29606870e-04,\n",
       "       3.85413581e-05, 5.36300377e-04, 3.99609678e-05, 0.00000000e+00,\n",
       "       5.71923568e-05, 1.21350349e-04, 2.73149386e-05, 7.83403344e-06,\n",
       "       5.47648617e-05, 3.26208615e-05, 2.02452846e-03, 2.88357761e-05,\n",
       "       2.36007321e-05, 9.98245688e-06, 1.37708901e-03, 3.50537140e-05,\n",
       "       0.00000000e+00, 7.84364434e-07, 1.96213720e-05, 1.36210024e-05,\n",
       "       3.22796934e-04, 1.13942390e-05, 6.43326020e-07, 0.00000000e+00,\n",
       "       0.00000000e+00, 0.00000000e+00, 1.44174279e-05, 8.40724758e-07,\n",
       "       6.22797890e-06, 0.00000000e+00, 2.08740353e-06, 1.98132309e-07,\n",
       "       5.14313417e-05, 5.99064913e-05, 1.08967416e-04, 0.00000000e+00,\n",
       "       4.25326100e-04, 2.00382984e-07, 1.43776826e-06, 1.25508405e-06,\n",
       "       1.11144503e-05, 0.00000000e+00, 0.00000000e+00, 6.42185692e-05,\n",
       "       3.30833927e-05, 2.15697453e-05, 4.41787585e-07, 3.21188854e-05,\n",
       "       5.54654455e-07, 0.00000000e+00, 1.53801730e-05, 1.56716669e-06,\n",
       "       1.64231873e-03, 1.80257727e-05, 2.84208605e-05, 0.00000000e+00,\n",
       "       4.67357564e-07, 4.71083009e-07, 1.87651273e-04, 0.00000000e+00,\n",
       "       9.04218538e-07, 0.00000000e+00, 2.63345408e-06, 2.60130005e-06,\n",
       "       1.22626267e-05, 5.08138790e-09, 3.00520933e-07, 3.73628607e-06,\n",
       "       1.11270171e-05, 2.37646885e-08, 3.18440116e-07, 5.41266710e-04,\n",
       "       0.00000000e+00, 0.00000000e+00, 4.67949347e-07, 8.87962115e-04,\n",
       "       0.00000000e+00, 2.39919181e-08, 0.00000000e+00, 1.28704137e-05,\n",
       "       0.00000000e+00, 8.37594763e-07, 7.52235334e-06, 0.00000000e+00,\n",
       "       0.00000000e+00, 0.00000000e+00, 0.00000000e+00, 4.29699624e-04,\n",
       "       5.83944469e-06, 3.50115619e-07, 8.01388542e-06, 8.29539286e-04,\n",
       "       3.26049401e-05, 1.79145596e-04, 2.62930121e-06, 1.99309202e-05,\n",
       "       1.13488592e-07, 2.35334486e-05, 0.00000000e+00, 5.05680898e-07,\n",
       "       1.50505022e-05, 1.74001361e-06, 1.17469984e-04, 1.58993484e-06,\n",
       "       3.90695280e-06, 0.00000000e+00, 9.96318639e-07, 6.89365429e-05,\n",
       "       0.00000000e+00, 1.15386008e-06, 7.03137105e-07, 4.68285535e-06,\n",
       "       0.00000000e+00, 7.94727343e-06, 9.25160504e-07, 7.83913650e-06,\n",
       "       5.29851912e-07, 6.62399603e-06, 1.56109938e-05, 2.52721828e-05,\n",
       "       5.25799499e-04, 2.10723641e-06, 0.00000000e+00, 3.50462011e-08,\n",
       "       0.00000000e+00, 6.17328318e-05, 9.57145362e-06, 5.21588324e-06,\n",
       "       6.21538724e-05, 0.00000000e+00, 1.56430101e-08, 9.27997245e-05,\n",
       "       1.19190279e-06, 9.05958161e-08, 8.08910746e-05, 3.85664667e-05,\n",
       "       1.13982544e-07, 8.74805945e-06, 5.13845540e-06, 3.86625603e-06,\n",
       "       1.58360943e-05, 1.58449744e-05, 3.25534531e-07, 8.69121477e-10,\n",
       "       7.14231610e-04, 3.51876642e-07, 2.51006855e-05, 7.93607515e-07,\n",
       "       2.46519199e-05, 2.57549804e-05, 4.65274839e-07, 1.12280864e-04,\n",
       "       1.80620689e-06, 2.01195928e-05, 0.00000000e+00, 1.71827974e-05,\n",
       "       8.18880543e-07, 9.99261306e-07, 1.35363212e-06, 1.51520216e-05,\n",
       "       6.10315312e-06, 5.01501493e-07, 1.07373903e-07, 2.80165111e-05,\n",
       "       5.67787770e-06, 0.00000000e+00, 4.16416555e-07, 0.00000000e+00,\n",
       "       2.66923346e-06, 1.06038323e-05, 0.00000000e+00, 0.00000000e+00,\n",
       "       6.20507249e-07, 1.91063957e-07, 6.30889448e-07, 0.00000000e+00,\n",
       "       0.00000000e+00, 2.92611409e-05, 3.85185027e-05, 5.57985568e-05,\n",
       "       2.80680727e-06, 2.67243170e-05, 3.10638392e-05, 8.58160361e-05,\n",
       "       5.73793333e-05, 1.04721801e-05, 9.65703710e-05, 6.70910531e-07,\n",
       "       1.80419768e-05, 1.44003491e-05, 2.89908222e-04, 4.14337952e-05,\n",
       "       0.00000000e+00, 3.89434426e-04, 9.70988493e-05, 5.23029283e-06,\n",
       "       1.41615299e-05, 8.31276510e-05, 2.59813432e-04, 4.68685233e-05,\n",
       "       2.78923844e-04, 1.07067580e-04, 1.29296285e-03, 3.53463280e-04,\n",
       "       2.06781861e-04, 1.76680225e-04, 7.50838819e-05, 3.29544563e-05,\n",
       "       2.69230384e-05, 3.67998265e-06, 1.73169047e-04, 5.69572740e-05,\n",
       "       2.00030810e-03, 2.94220863e-04, 6.96543268e-08, 2.29029163e-05,\n",
       "       9.74132982e-06, 3.51016929e-07, 1.07192646e-05, 0.00000000e+00,\n",
       "       3.52741441e-07, 1.01038213e-06, 2.24390638e-05, 8.24508541e-06,\n",
       "       2.00401051e-06, 6.16096363e-05, 2.34486252e-04, 0.00000000e+00,\n",
       "       6.51742726e-04, 3.21902997e-03, 3.43210235e-03, 2.25840018e-03,\n",
       "       1.87395624e-03, 3.17081380e-03, 1.89675167e-03, 1.17435437e-03,\n",
       "       5.89949153e-04, 2.32361057e-05, 2.12159409e-05, 3.10149535e-03,\n",
       "       2.97641627e-03, 2.28698631e-03, 1.75385911e-03, 3.01817270e-03,\n",
       "       1.65267952e-03, 9.22835493e-04, 5.32104460e-04, 4.43658315e-05,\n",
       "       1.80985739e-05, 3.08876288e-03, 3.23471642e-03, 2.69723515e-03,\n",
       "       2.36774036e-03, 4.27884237e-03, 2.60073932e-03, 1.62988231e-03,\n",
       "       9.47709514e-04, 5.78719926e-05, 2.96723907e-05, 3.08187315e-03,\n",
       "       3.55179667e-03, 2.39599567e-03, 2.13223461e-03, 3.39808728e-03,\n",
       "       1.70448233e-03, 8.36008287e-04, 3.77538921e-04, 4.75480717e-05,\n",
       "       5.80735487e-06, 3.41605923e-03, 3.43344807e-03, 2.20217153e-03,\n",
       "       1.77006989e-03, 3.27411373e-03, 1.72895144e-03, 9.78008137e-04,\n",
       "       4.80347967e-04, 5.20651354e-05, 1.91646926e-05, 3.58817044e-03,\n",
       "       3.38110757e-03, 2.33975212e-03, 1.76859185e-03, 3.10615113e-03,\n",
       "       1.84853644e-03, 9.23427188e-04, 4.85005226e-04, 4.12701372e-05,\n",
       "       3.12250506e-05, 2.91581019e-03, 2.86808222e-03, 2.10185714e-03,\n",
       "       1.84174686e-03, 3.25514064e-03, 1.77985051e-03, 9.73604896e-04,\n",
       "       5.42502069e-04, 3.67584760e-05, 1.56082220e-05, 2.99781378e-03,\n",
       "       3.01981360e-03, 2.06119225e-03, 1.70095847e-03, 3.38335394e-03,\n",
       "       1.84657098e-03, 1.07360534e-03, 6.01103480e-04, 6.25600969e-05,\n",
       "       2.10782803e-05, 3.18110836e-03, 3.56199765e-03, 2.35267754e-03,\n",
       "       2.14218741e-03, 3.43195253e-03, 2.00955629e-03, 1.11103991e-03,\n",
       "       6.67237187e-04, 4.83728675e-05, 2.27174566e-05, 2.96285782e-03,\n",
       "       3.04481879e-03, 2.37882795e-03, 1.90416508e-03, 3.52626532e-03,\n",
       "       1.99115141e-03, 1.20702265e-03, 6.49734137e-04, 3.46021232e-05,\n",
       "       1.01868895e-05, 3.31679305e-03, 3.37884460e-03, 2.28802465e-03,\n",
       "       1.89371092e-03, 3.35665516e-03, 1.87683807e-03, 1.00888034e-03,\n",
       "       5.86262328e-04, 2.25959648e-05, 9.84513153e-06, 3.26357883e-03,\n",
       "       2.99852279e-03, 2.18043943e-03, 1.86255474e-03, 3.09362202e-03,\n",
       "       1.72420368e-03, 9.04162651e-04, 5.94728572e-04, 1.98025527e-05,\n",
       "       4.32328761e-06, 4.21010696e-03, 5.41608663e-03, 4.32920866e-03,\n",
       "       3.75036184e-03, 4.71832086e-03, 1.86735765e-03, 7.29529095e-04,\n",
       "       5.05866136e-04, 3.45121314e-05, 7.98498934e-07, 2.76833157e-03,\n",
       "       3.32449060e-03, 2.96798675e-03, 2.56346762e-03, 5.02654865e-03,\n",
       "       4.31521816e-03, 3.34733877e-03, 2.59842082e-03, 4.96196717e-04,\n",
       "       1.81377747e-04, 4.93254096e-03, 4.39582392e-03, 3.39154924e-03,\n",
       "       2.96596459e-03, 2.40287282e-03, 2.14267317e-03, 1.92738349e-03,\n",
       "       1.81681479e-03, 1.48396642e-03, 1.26273448e-03, 2.99980757e-03,\n",
       "       1.33854036e-03, 8.92723156e-04, 5.64167046e-04, 5.35768770e-04,\n",
       "       1.08077303e-04, 3.65782094e-05, 1.43840895e-05, 1.45731190e-05,\n",
       "       5.45821503e-07, 5.05881835e-03, 2.88355193e-03, 1.80344388e-03,\n",
       "       1.17568748e-03, 9.23086078e-04, 6.25671303e-04, 5.68142001e-04,\n",
       "       4.50165667e-04, 3.04488009e-04, 2.71990041e-04, 6.00210573e-04,\n",
       "       1.93177107e-04, 7.38683784e-05, 1.30447129e-05, 2.49928731e-05,\n",
       "       1.36996593e-07, 0.00000000e+00, 3.13753523e-03, 1.35332125e-03,\n",
       "       6.11932395e-04, 4.08018823e-04, 2.44505159e-04, 1.33276511e-04,\n",
       "       1.29252566e-04, 8.05511477e-05, 7.74823519e-05, 2.65247203e-05,\n",
       "       9.15750910e-05, 2.89845577e-05, 1.72401790e-05, 8.43477312e-07,\n",
       "       5.71402891e-06, 5.63236523e-03, 3.74276497e-03, 2.27554554e-03,\n",
       "       1.54345229e-03, 1.09039972e-03, 9.14042566e-04, 6.81424261e-04,\n",
       "       4.56350935e-04, 4.81653926e-04, 3.27974161e-04, 7.01847964e-04,\n",
       "       2.24823712e-04, 7.25834916e-05, 4.83159939e-05, 2.79582108e-05,\n",
       "       0.00000000e+00, 0.00000000e+00, 1.71405571e-03, 5.07826698e-04,\n",
       "       2.22470213e-04, 9.86159256e-05, 2.07146804e-05, 6.24453632e-05,\n",
       "       1.76913662e-05, 1.08711704e-05, 2.37319888e-05, 7.10582645e-08,\n",
       "       9.82270084e-06, 0.00000000e+00, 1.03801049e-05, 5.42868136e-03,\n",
       "       4.36637812e-03, 3.32685193e-03, 2.69203520e-03, 2.07409054e-03,\n",
       "       1.89696674e-03, 1.71403504e-03, 1.57664845e-03, 1.32816079e-03,\n",
       "       1.14963667e-03, 2.24554430e-03, 8.97424635e-04, 5.59424467e-04,\n",
       "       3.26823098e-04, 2.69123203e-04, 2.47825887e-05, 1.53648477e-06,\n",
       "       0.00000000e+00, 0.00000000e+00, 0.00000000e+00, 6.44698433e-03,\n",
       "       4.16171590e-03, 2.89680984e-03, 2.14138701e-03, 1.63539217e-03,\n",
       "       1.25918219e-03, 1.03272751e-03, 8.25912052e-04, 6.33147739e-04,\n",
       "       6.29829202e-04, 1.33901265e-03, 5.25568870e-04, 2.40020802e-04,\n",
       "       1.50939138e-04, 1.18547783e-04, 3.87215367e-05, 1.30216294e-06,\n",
       "       9.82025165e-06, 3.33762050e-03, 4.27010052e-03, 4.01794539e-03,\n",
       "       3.49697659e-03, 4.86301857e-03, 1.86217495e-03, 7.53043700e-04,\n",
       "       3.28595167e-04, 2.52768491e-05, 1.36254263e-05])"
      ]
     },
     "execution_count": 179,
     "metadata": {},
     "output_type": "execute_result"
    }
   ],
   "source": [
    "clf.feature_importances_"
   ]
  },
  {
   "cell_type": "markdown",
   "metadata": {},
   "source": [
    "# PCA"
   ]
  },
  {
   "cell_type": "code",
   "execution_count": null,
   "metadata": {},
   "outputs": [],
   "source": [
    "from sklearn.decomposition import PCA\n",
    "X = pd.get_dummies(df.iloc[:,1:200].fillna(value=0))\n",
    "clf = PCA(0.95) # keep 95% of variance\n",
    "X_trans = clf.fit_transform(X)\n",
    "print(X.shape)\n",
    "print(X_trans.shape)"
   ]
  },
  {
   "cell_type": "markdown",
   "metadata": {},
   "source": [
    "## KNN"
   ]
  },
  {
   "cell_type": "code",
   "execution_count": null,
   "metadata": {},
   "outputs": [],
   "source": [
    "from sklearn.neighbors import KNeighborsClassifier\n",
    "clf = KNeighborsClassifier(n_neighbors=100)\n",
    "clf.fit(Xtrain, ytrain)\n"
   ]
  },
  {
   "cell_type": "code",
   "execution_count": null,
   "metadata": {},
   "outputs": [],
   "source": [
    "ypred = clf.predict(Xtest)\n",
    "accuracy_score(ytest, ypred)"
   ]
  },
  {
   "cell_type": "code",
   "execution_count": null,
   "metadata": {
    "collapsed": true
   },
   "outputs": [],
   "source": []
  }
 ],
 "metadata": {
  "kernelspec": {
   "display_name": "Python 3",
   "language": "python",
   "name": "python3"
  },
  "language_info": {
   "codemirror_mode": {
    "name": "ipython",
    "version": 3
   },
   "file_extension": ".py",
   "mimetype": "text/x-python",
   "name": "python",
   "nbconvert_exporter": "python",
   "pygments_lexer": "ipython3",
   "version": "3.6.3"
  },
  "toc": {
   "nav_menu": {},
   "number_sections": true,
   "sideBar": true,
   "skip_h1_title": false,
   "toc_cell": false,
   "toc_position": {},
   "toc_section_display": "block",
   "toc_window_display": false
  }
 },
 "nbformat": 4,
 "nbformat_minor": 2
}
